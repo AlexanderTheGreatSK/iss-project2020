{
 "cells": [
  {
   "cell_type": "code",
   "execution_count": 1,
   "metadata": {
    "collapsed": true,
    "pycharm": {
     "name": "#%%\n"
    }
   },
   "outputs": [
    {
     "ename": "ModuleNotFoundError",
     "evalue": "No module named 'numpy'",
     "output_type": "error",
     "traceback": [
      "\u001B[0;31m---------------------------------------------------------------------------\u001B[0m",
      "\u001B[0;31mModuleNotFoundError\u001B[0m                       Traceback (most recent call last)",
      "Input \u001B[0;32mIn [1]\u001B[0m, in \u001B[0;36m<cell line: 3>\u001B[0;34m()\u001B[0m\n\u001B[1;32m      1\u001B[0m \u001B[38;5;66;03m# adding imports for this project\u001B[39;00m\n\u001B[1;32m      2\u001B[0m \u001B[38;5;28;01mimport\u001B[39;00m \u001B[38;5;21;01mnotebook\u001B[39;00m\n\u001B[0;32m----> 3\u001B[0m \u001B[38;5;28;01mimport\u001B[39;00m \u001B[38;5;21;01mnumpy\u001B[39;00m\u001B[38;5;21;01m.\u001B[39;00m\u001B[38;5;21;01mfft\u001B[39;00m\n\u001B[1;32m      4\u001B[0m \u001B[38;5;28;01mfrom\u001B[39;00m \u001B[38;5;21;01mscipy\u001B[39;00m\u001B[38;5;21;01m.\u001B[39;00m\u001B[38;5;21;01mio\u001B[39;00m \u001B[38;5;28;01mimport\u001B[39;00m wavfile\n\u001B[1;32m      5\u001B[0m get_ipython()\u001B[38;5;241m.\u001B[39mrun_line_magic(\u001B[38;5;124m'\u001B[39m\u001B[38;5;124mmatplotlib\u001B[39m\u001B[38;5;124m'\u001B[39m, \u001B[38;5;124m'\u001B[39m\u001B[38;5;124mnotebook\u001B[39m\u001B[38;5;124m'\u001B[39m)\n",
      "\u001B[0;31mModuleNotFoundError\u001B[0m: No module named 'numpy'"
     ]
    }
   ],
   "source": [
    "# adding imports for this project\n",
    "import notebook\n",
    "import numpy.fft\n",
    "from scipy.io import wavfile\n",
    "%matplotlib notebook\n",
    "import matplotlib.pyplot as plt\n",
    "import numpy as np\n",
    "import soundfile\n",
    "import math\n",
    "import time\n",
    "from scipy.signal import spectrogram, lfilter, freqz, tf2zpk, find_peaks, butter, buttord, normalize"
   ]
  },
  {
   "cell_type": "code",
   "execution_count": null,
   "outputs": [],
   "source": [
    "# reading original signal\n",
    "data, fs = soundfile.read('../audio/xokruc00_original.wav')\n",
    "data.min(), data.max()\n",
    "t = data.size / fs\n",
    "\n",
    "print(\"Time : \", t, \"s\")\n",
    "print(\"Signal length : \", data.size)\n",
    "\n",
    "print(\"Min : \", data.min())\n",
    "print(\"Max : \", data.max())"
   ],
   "metadata": {
    "collapsed": false,
    "pycharm": {
     "name": "#%%\n"
    }
   }
  },
  {
   "cell_type": "code",
   "execution_count": null,
   "outputs": [],
   "source": [
    "timex = np.arange(data.size) / fs\n",
    "plt.figure(figsize=(13,5))\n",
    "plt.plot(timex,data)\n",
    "\n",
    "plt.gca().set_xlabel('$t[s]$')\n",
    "plt.gca().set_title('Sound signal')\n",
    "\n",
    "plt.tight_layout()"
   ],
   "metadata": {
    "collapsed": false,
    "pycharm": {
     "name": "#%%\n"
    }
   }
  },
  {
   "cell_type": "code",
   "execution_count": null,
   "outputs": [],
   "source": [
    "# 4.2\n",
    "\n",
    "start = 0\n",
    "end = 1024\n",
    "frame = []\n",
    "index = 0\n",
    "while end < data.size:\n",
    "    frame.append(data[start:end])\n",
    "\n",
    "    start = start + 512\n",
    "    end = end + 512\n",
    "    index += 1\n",
    "\n",
    "    if index == 40 :\n",
    "        chosenStart = (start - 512)/fs\n",
    "        chosenEnd = (end - 512)/fs\n",
    "\n",
    "print(\"frames: \", len(frame))\n",
    "print(\"start \", start)\n",
    "print(\"end \", end)\n",
    "\n",
    "print(\"start \", chosenStart)\n",
    "print(\"end \", chosenEnd)\n",
    "\n",
    "print(frame[40])\n",
    "\n",
    "time = np.arange(frame[40].size)/fs+chosenStart\n",
    "print(\"TIME \",time)\n",
    "plt.figure(figsize=(13,3))\n",
    "plt.plot(np.arange(frame[40].size)/fs+chosenStart,frame[40])\n",
    "plt.gca().set_xlabel('$t[s]$')\n",
    "plt.gca().set_title('Frame number 41')\n",
    "plt.tight_layout()"
   ],
   "metadata": {
    "collapsed": false,
    "pycharm": {
     "name": "#%%\n"
    }
   }
  },
  {
   "cell_type": "code",
   "execution_count": null,
   "outputs": [],
   "source": [
    "# 4.3\n",
    "def myDFT(function):\n",
    "    N = function.size\n",
    "    result = []\n",
    "    num = 0\n",
    "    k,n = 0,0\n",
    "    for k in range(1024) :\n",
    "        for n in range(1024) :\n",
    "            realPart = math.cos(((2 * math.pi) / N) * k * n)\n",
    "            imagPart = math.sin(((2 * math.pi) / N) * k * n)\n",
    "            complexNum = complex(realPart, -imagPart)\n",
    "            num += function[n] * complexNum\n",
    "        result.append(num)\n",
    "    return result\n",
    "\n",
    "\n",
    "fftresult = numpy.fft.fft(data)\n",
    "myFrameFFT = numpy.fft.fft(frame[40])\n",
    "mytestFFT = myDFT(frame[40])\n",
    "\n",
    "print(mytestFFT[0])\n",
    "print(myFrameFFT[0])\n",
    "\n",
    "half = fftresult.size//2\n",
    "\n",
    "times = np.arange(0.01, 0.98, 0.01)\n",
    "freqs = np.arange(0, 1024/2) / 1024 * 16000\n",
    "\n",
    "plt.figure(figsize=(17,3))\n",
    "yaxis = myFrameFFT[0:(myFrameFFT.size//2)]\n",
    "xaxis = np.arange(0, fs/2, fs/1024)\n",
    "\n",
    "plt.plot(xaxis, np.abs(yaxis))\n",
    "plt.gca().set_xlabel('$F[Hz]$')\n",
    "plt.gca().set_title('Graph DFT')\n"
   ],
   "metadata": {
    "collapsed": false,
    "pycharm": {
     "name": "#%%\n"
    }
   }
  },
  {
   "cell_type": "code",
   "execution_count": null,
   "outputs": [],
   "source": [
    "\n",
    "\n",
    "f,t,sgr = spectrogram(data, fs, nperseg=1024, noverlap=512)\n",
    "spr_log = 10 * np.log10(abs(sgr)**2)\n",
    "\n",
    "\n",
    "\n",
    "plt.figure(figsize=(13,5))\n",
    "plt.pcolormesh(t, f, spr_log)\n",
    "plt.gca().set_xlabel('Time [s]')\n",
    "plt.gca().set_ylabel('Frequency [Hz]')\n",
    "cbar = plt.colorbar()\n",
    "\n",
    "plt.tight_layout()"
   ],
   "metadata": {
    "collapsed": false,
    "pycharm": {
     "name": "#%%\n"
    }
   }
  },
  {
   "cell_type": "code",
   "execution_count": null,
   "outputs": [],
   "source": [
    "# function for searching peaks in signal\n",
    "# arguments which I used are : signal input, height of signal (if signal is higher than this value it is considered as peak, I chose 100 because it is high enough to be considered as a peak)\n",
    "# documentation for this function : https://docs.scipy.org/doc/scipy/reference/generated/scipy.signal.find_peaks.html\n",
    "peaks ,_ = find_peaks(numpy.abs(myFrameFFT[0:(myFrameFFT.size//2)]), height=2)\n",
    "\n",
    "\n",
    "print(peaks)\n",
    "\n",
    "f1 = peaks[0] * fs/1024\n",
    "f2 = peaks[1] * fs/1024\n",
    "f3 = peaks[2] * fs/1024\n",
    "f4 = peaks[3] * fs/1024\n",
    "\n",
    "print(\"Frequencies of our peaks are : \")\n",
    "print(\"f1 :\", f1, \"Hz\")\n",
    "print(\"f2 :\", f2, \"Hz\")\n",
    "print(\"f3 :\", f3, \"Hz\")\n",
    "print(\"f4 :\", f4, \"Hz\")\n",
    "\n",
    "print(\"Now we need to check if they are harmonically related\")\n",
    "print(\"f2 :\", f2, \"== f1 * 2 :\", f1*2)\n",
    "print(\"f3 :\", f3, \"== f1 * 2 :\", f1*3)\n",
    "print(\"f4 :\", f4, \"== f1 * 2 :\", f1*4)\n",
    "\n",
    "print(\"Even through small offset I consider them as harmonically related\")\n",
    "\n",
    "plt.figure(figsize=(17,3))\n",
    "\n",
    "plt.plot(numpy.arange(0, fs//2, fs/1024),numpy.abs(myFrameFFT[0:myFrameFFT.size//2]))\n",
    "\n",
    "plt.plot(peaks*(16000//1024),numpy.abs(myFrameFFT[peaks]), \"x\")\n",
    "\n",
    "plt.show()\n"
   ],
   "metadata": {
    "collapsed": false,
    "pycharm": {
     "name": "#%%\n"
    }
   }
  },
  {
   "cell_type": "code",
   "execution_count": null,
   "outputs": [],
   "source": [
    "# 4.6 Generating signal\n",
    "\n",
    "samples = []\n",
    "for i in range(data.size):\n",
    "    samples.append(i/fs)\n",
    "\n",
    "outCos1 = np.cos(2 * np.pi * f1 * np.array(samples))\n",
    "outCos2 = np.cos(2 * np.pi * f2 * np.array(samples))\n",
    "outCos3 = np.cos(2 * np.pi * f3 * np.array(samples))\n",
    "outCos4 = np.cos(2 * np.pi * f4 * np.array(samples))\n",
    "\n",
    "outCosSum = outCos1 + outCos2 + outCos3 + outCos4\n",
    "\n",
    "print(\"max: \", outCosSum.max())\n",
    "print(\"min: \", outCosSum.min())\n",
    "\n",
    "norm = outCosSum / outCosSum.max()\n",
    "\n",
    "print(\"max: \", norm.max())\n",
    "print(\"min: \", norm.min())\n",
    "\n",
    "soundfile.write(\"../audio/4cos.wav\", (norm * np.iinfo(np.int16).max).astype(np.int16), fs)\n",
    "\n",
    "f,t,sgr = spectrogram(outCosSum, fs, nperseg=1024, noverlap=512)\n",
    "spr_log = 10 * np.log10(abs(sgr)**2)\n",
    "\n",
    "plt.figure(figsize=(13,5))\n",
    "plt.pcolormesh(t, f, spr_log)\n",
    "plt.gca().set_xlabel('Time [s]')\n",
    "plt.gca().set_title('Spectrogram of 4cos.wav generated audio file')\n",
    "plt.gca().set_ylabel('Frequence [Hz]')\n",
    "cbar = plt.colorbar()\n"
   ],
   "metadata": {
    "collapsed": false,
    "pycharm": {
     "name": "#%%\n"
    }
   }
  },
  {
   "cell_type": "code",
   "execution_count": null,
   "outputs": [],
   "source": [
    "#4.7\n",
    "def createFilter(frequency):\n",
    "\n",
    "    N, Wn = buttord([(frequency-90)/(fs/2), (frequency+90)/(fs/2)], [(frequency-30)/(fs/2), (frequency+30)/(fs/2)], 30, 50)\n",
    "    print(\"N: \", N)\n",
    "    print(\"Wn: \", Wn)\n",
    "    b, a = butter(N, Wn, 'bandstop')\n",
    "\n",
    "    return b, a\n",
    "\n",
    "b1, a1 = createFilter(f1)\n",
    "b2, a2 = createFilter(f2)\n",
    "b3, a3 = createFilter(f3)\n",
    "b4, a4 = createFilter(f4)\n",
    "\n",
    "z1, p1, k1 = tf2zpk(b1, a1)\n",
    "z2, p2, k2 = tf2zpk(b2, a2)\n",
    "z3, p3, k3 = tf2zpk(b3, a3)\n",
    "z4, p4, k4 = tf2zpk(b4, a4)"
   ],
   "metadata": {
    "collapsed": false,
    "pycharm": {
     "name": "#%%\n"
    }
   }
  },
  {
   "cell_type": "code",
   "execution_count": null,
   "outputs": [],
   "source": [
    "plt.figure(figsize=(6,5.25))\n",
    "\n",
    "# graf - časť jednotková kružnica\n",
    "ang = np.linspace(0, 2*np.pi,100)\n",
    "plt.plot(np.cos(ang), np.sin(ang))\n",
    "\n",
    "plt.scatter(np.real(z1), np.imag(z1), marker='o', facecolors='none', edgecolors='r', label='zeros')\n",
    "plt.scatter(np.real(p1), np.imag(p1), marker='x', color='g', label='poles')\n",
    "\n",
    "plt.legend(loc='upper left')\n",
    "\n",
    "plt.scatter(np.real(z2), np.imag(z2), marker='o', facecolors='none', edgecolors='r', label='zeros')\n",
    "plt.scatter(np.real(p2), np.imag(p2), marker='x', color='g', label='poles')\n",
    "\n",
    "plt.scatter(np.real(z3), np.imag(z3), marker='o', facecolors='none', edgecolors='r', label='zeros')\n",
    "plt.scatter(np.real(p3), np.imag(p3), marker='x', color='g', label='poles')\n",
    "\n",
    "plt.scatter(np.real(z4), np.imag(z4), marker='o', facecolors='none', edgecolors='r', label='zeros')\n",
    "plt.scatter(np.real(p4), np.imag(p4), marker='x', color='g', label='poles')\n",
    "\n",
    "plt.gca().set_xlabel('Real component $\\mathbb{R}\\{$z$\\}$')\n",
    "plt.gca().set_ylabel('Imaginary component  $\\mathbb{I}\\{$z$\\}$')\n",
    "\n",
    "plt.grid(alpha=0.5, linestyle='--')\n",
    "\n",
    "plt.tight_layout()"
   ],
   "metadata": {
    "collapsed": false,
    "pycharm": {
     "name": "#%%\n"
    }
   }
  },
  {
   "cell_type": "code",
   "execution_count": null,
   "outputs": [],
   "source": [
    "w1, H1 = freqz(b1, a1)\n",
    "w2, H2 = freqz(b2, a2)\n",
    "w3, H3 = freqz(b3, a3)\n",
    "w4, H4 = freqz(b4, a4)\n",
    "\n",
    "_, ax = plt.subplots(1, 2, figsize=(13,5))\n",
    "\n",
    "ax[0].plot(w1 / 2 / np.pi * fs, np.abs(H1))\n",
    "ax[0].set_xlabel('Frequency [Hz]')\n",
    "ax[0].set_title('Frequency response module  f1 $|H(e^{j\\omega})|$')\n",
    "\n",
    "ax[1].plot(w1 / 2 / np.pi * fs, np.angle(H1))\n",
    "ax[1].set_xlabel('Frequency [Hz]')\n",
    "ax[1].set_title('Frequency response argument f1 $\\mathrm{arg}\\ H(e^{j\\omega})$')\n",
    "\n",
    "for ax1 in ax:\n",
    "    ax1.grid(alpha=0.5, linestyle='--')\n",
    "\n",
    "plt.tight_layout()\n",
    "\n",
    "_, ax = plt.subplots(1, 2, figsize=(13,5))\n",
    "\n",
    "ax[0].plot(w2 / 2 / np.pi * fs, np.abs(H2))\n",
    "ax[0].set_xlabel('Frequency [Hz]')\n",
    "ax[0].set_title('Frequency response module  f2 $|H(e^{j\\omega})|$')\n",
    "\n",
    "ax[1].plot(w2 / 2 / np.pi * fs, np.angle(H2))\n",
    "ax[1].set_xlabel('Frequency [Hz]')\n",
    "ax[1].set_title('Frequency response argument f2 $\\mathrm{arg}\\ H(e^{j\\omega})$')\n",
    "\n",
    "for ax1 in ax:\n",
    "    ax1.grid(alpha=0.5, linestyle='--')\n",
    "\n",
    "plt.tight_layout()\n",
    "\n",
    "_, ax = plt.subplots(1, 2, figsize=(13,5))\n",
    "\n",
    "ax[0].plot(w3 / 2 / np.pi * fs, np.abs(H3))\n",
    "ax[0].set_xlabel('Frequency [Hz]')\n",
    "ax[0].set_title('Frequency response module  f3 $|H(e^{j\\omega})|$')\n",
    "\n",
    "ax[1].plot(w3 / 2 / np.pi * fs, np.angle(H3))\n",
    "ax[1].set_xlabel('Frequency [Hz]')\n",
    "ax[1].set_title('Frequency response argument f3 $\\mathrm{arg}\\ H(e^{j\\omega})$')\n",
    "\n",
    "for ax1 in ax:\n",
    "    ax1.grid(alpha=0.5, linestyle='--')\n",
    "\n",
    "plt.tight_layout()\n",
    "\n",
    "_, ax = plt.subplots(1, 2, figsize=(13,5))\n",
    "ax[0].plot(w4 / 2 / np.pi * fs, np.abs(H4))\n",
    "ax[0].set_xlabel('Frequency [Hz]')\n",
    "ax[0].set_title('Frequency response module f4 $|H(e^{j\\omega})|$')\n",
    "\n",
    "ax[1].plot(w4 / 2 / np.pi * fs, np.angle(H4))\n",
    "ax[1].set_xlabel('Frequency [Hz]')\n",
    "ax[1].set_title('Frequency response argument f4 $\\mathrm{arg}\\ H(e^{j\\omega})$')\n",
    "\n",
    "for ax1 in ax:\n",
    "    ax1.grid(alpha=0.5, linestyle='--')\n",
    "\n",
    "plt.tight_layout()"
   ],
   "metadata": {
    "collapsed": false,
    "pycharm": {
     "name": "#%%\n"
    }
   }
  },
  {
   "cell_type": "code",
   "execution_count": null,
   "outputs": [],
   "source": [
    "sf = lfilter(b1, a1, data)\n",
    "sf = lfilter(b2, a2, sf)\n",
    "sf = lfilter(b3, a3, sf)\n",
    "sf = lfilter(b4, a4, sf)\n",
    "\n",
    "soundfile.write(\"../audio/clean_bandstop.wav\", (sf * np.iinfo(np.int16).max).astype(np.int16) , fs)\n",
    "\n",
    "f,t,sgr = spectrogram(sf, fs, nperseg=1024, noverlap=512)\n",
    "spr_log = 10 * np.log10(abs(sgr)**2)\n",
    "\n",
    "plt.figure(figsize=(10,5))\n",
    "plt.pcolormesh(t, f, spr_log)\n",
    "plt.gca().set_xlabel('Time [s]')\n",
    "plt.gca().set_ylabel('Frequency [Hz]')\n",
    "cbar = plt.colorbar()\n",
    "\n",
    "plt.tight_layout()\n"
   ],
   "metadata": {
    "collapsed": false,
    "pycharm": {
     "name": "#%%\n"
    }
   }
  }
 ],
 "metadata": {
  "kernelspec": {
   "display_name": "Python 3",
   "language": "python",
   "name": "python3"
  },
  "language_info": {
   "codemirror_mode": {
    "name": "ipython",
    "version": 2
   },
   "file_extension": ".py",
   "mimetype": "text/x-python",
   "name": "python",
   "nbconvert_exporter": "python",
   "pygments_lexer": "ipython2",
   "version": "2.7.6"
  }
 },
 "nbformat": 4,
 "nbformat_minor": 0
}